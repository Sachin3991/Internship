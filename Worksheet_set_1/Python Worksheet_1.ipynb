{
 "cells": [
  {
   "cell_type": "code",
   "execution_count": 1,
   "id": "a4d56a3c",
   "metadata": {},
   "outputs": [
    {
     "name": "stdout",
     "output_type": "stream",
     "text": [
      "Please enter some number below\n",
      "Please enter some number 4\n",
      "The factorial of the given number is  24\n"
     ]
    }
   ],
   "source": [
    "# Question 11 (To find factorial of a number)\n",
    "print(\"Please enter some number below\")\n",
    "n=int(input(\"Please enter some number \"))\n",
    "factorial=1\n",
    "for i in range(1,n+1):\n",
    "    factorial*=i\n",
    "    \n",
    "print(\"The factorial of the given number is \",factorial)\n",
    "\n"
   ]
  },
  {
   "cell_type": "code",
   "execution_count": 33,
   "id": "f4ad1cde",
   "metadata": {},
   "outputs": [
    {
     "name": "stdout",
     "output_type": "stream",
     "text": [
      "The entered number is 23\n",
      "The entered number is prime\n"
     ]
    }
   ],
   "source": [
    "# Question 12 (Prime or Composite Number)\n",
    "num=int(input(\"The entered number is \"))\n",
    "isComposite=True\n",
    "if num>2:\n",
    "    for i in range(2,num):\n",
    "        if num%i==0:\n",
    "            print(\"the entered number is composite\")\n",
    "            break\n",
    "        else:\n",
    "            isComposite=False\n",
    "elif num ==0 or num ==1:\n",
    "    print(\"The entered number is neither prime nor composite\")\n",
    "elif num==2:\n",
    "    print(\"The entered number is prime\")\n",
    "if isComposite==False:\n",
    "    print(\"The entered number is prime\")"
   ]
  },
  {
   "cell_type": "code",
   "execution_count": 3,
   "id": "8fe61836",
   "metadata": {},
   "outputs": [
    {
     "name": "stdout",
     "output_type": "stream",
     "text": [
      "Please enter some word malayalam\n",
      "The string is a palindrome\n"
     ]
    }
   ],
   "source": [
    "# Question 13 (Given string is Palindrome or not)\n",
    "\n",
    "s=str(input(\"Please enter some word \"))\n",
    "if(s==s[::-1]):\n",
    "    print(\"The string is a palindrome\")\n",
    "else:\n",
    "    print(\"The string isn't a palindrome\")\n",
    "        "
   ]
  },
  {
   "cell_type": "code",
   "execution_count": 7,
   "id": "5d40a388",
   "metadata": {},
   "outputs": [],
   "source": [
    "# Question 14 (Right Angled Triangle)\n",
    "import numpy as np\n"
   ]
  },
  {
   "cell_type": "code",
   "execution_count": 10,
   "id": "93a02e1a",
   "metadata": {},
   "outputs": [
    {
     "name": "stdout",
     "output_type": "stream",
     "text": [
      "Please enter the length of first side 3\n",
      "Please enter the length of second side 4\n"
     ]
    },
    {
     "data": {
      "text/plain": [
       "5.0"
      ]
     },
     "execution_count": 10,
     "metadata": {},
     "output_type": "execute_result"
    }
   ],
   "source": [
    "side_1=float(input(\"Please enter the length of first side \"))\n",
    "side_2=float(input(\"Please enter the length of second side \"))\n",
    "side_3=np.sqrt(side_1**2 + side_2**2)\n",
    "side_3"
   ]
  },
  {
   "cell_type": "code",
   "execution_count": 14,
   "id": "9d8e1696",
   "metadata": {},
   "outputs": [
    {
     "name": "stdout",
     "output_type": "stream",
     "text": [
      "Please enter some word madam\n",
      "The frequency of  m  is  2\n",
      "The frequency of  a  is  2\n",
      "The frequency of  d  is  1\n",
      "The frequency of  a  is  2\n",
      "The frequency of  m  is  2\n"
     ]
    }
   ],
   "source": [
    "# Question 15 (print frequency of each character in string)\n",
    "s=str(input(\"Please enter some word \"))\n",
    "counter=1\n",
    "for i in range(0,len(s)):\n",
    "    for n in range(0,len(s)):\n",
    "        if n==i:\n",
    "            continue\n",
    "        else:\n",
    "            if s[i]==s[n]:\n",
    "                counter+=1\n",
    "            else:\n",
    "                continue\n",
    "    print(\"The frequency of \",s[i],\" is \",counter)\n",
    "    counter=1"
   ]
  },
  {
   "cell_type": "code",
   "execution_count": null,
   "id": "4328a743",
   "metadata": {},
   "outputs": [],
   "source": []
  }
 ],
 "metadata": {
  "kernelspec": {
   "display_name": "Python 3 (ipykernel)",
   "language": "python",
   "name": "python3"
  },
  "language_info": {
   "codemirror_mode": {
    "name": "ipython",
    "version": 3
   },
   "file_extension": ".py",
   "mimetype": "text/x-python",
   "name": "python",
   "nbconvert_exporter": "python",
   "pygments_lexer": "ipython3",
   "version": "3.9.12"
  }
 },
 "nbformat": 4,
 "nbformat_minor": 5
}
